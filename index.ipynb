%%javascript

Jupyter.keyboard_manager.edit_shortcuts.add_shortcut('Alt-a', {handler : function (event) {IPython.notebook.execute_cells_above();return false;}})
Jupyter.keyboard_manager.command_shortcuts.add_shortcut('Alt-a', {handler : function (event) {IPython.notebook.execute_cells_above();return false;}})
Jupyter.keyboard_manager.edit_shortcuts.add_shortcut('Alt-z', {handler : function (event) {IPython.notebook.execute_cells_below();return false;}})
Jupyter.keyboard_manager.command_shortcuts.add_shortcut('Alt-z', {handler : function (event) {IPython.notebook.execute_cells_below();return false;}})
Jupyter.keyboard_manager.edit_shortcuts.add_shortcut('Alt-x', {
    handler : function (event) {
        setTimeout(function() {
            // Find running cell and click the first one
            if ($('.running').length > 0) {
                //alert("found running cell");
                $('.running')[0].scrollIntoView();
            }}, 250);
        return false;
    }
});
Jupyter.keyboard_manager.command_shortcuts.add_shortcut('Alt-x', {
    handler : function (event) {
        setTimeout(function() {
            // Find running cell and click the first one
            if ($('.running').length > 0) {
                //alert("found running cell");
                $('.running')[0].scrollIntoView();
            }}, 250);
        return false;
    }
});
